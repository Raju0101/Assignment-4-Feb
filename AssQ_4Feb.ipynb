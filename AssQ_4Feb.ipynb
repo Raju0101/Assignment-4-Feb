{
 "cells": [
  {
   "cell_type": "markdown",
   "id": "fee0a7ec-6a7a-4077-b4a9-34908e9ee104",
   "metadata": {},
   "source": [
    "#Assignment_4Feb_"
   ]
  },
  {
   "cell_type": "code",
   "execution_count": 2,
   "id": "62097041-b325-4675-ba06-4e751fe8f837",
   "metadata": {},
   "outputs": [],
   "source": [
    "## Q1. Create a python program to sort the given list of tuples based on integer value using a lambda function.\n",
    "\n",
    "##[('Sachin Tendulkar', 34357), ('Ricky Ponting', 27483), ('Jack Kallis', 25534), ('Virat Kohli', 24936)]"
   ]
  },
  {
   "cell_type": "code",
   "execution_count": 19,
   "id": "bacf5a83-4d2e-4d98-8f91-50f1f7a3f444",
   "metadata": {},
   "outputs": [
    {
     "name": "stdout",
     "output_type": "stream",
     "text": [
      "[('virat Kohli', 24936), ('Jack Kallis', 25534), ('Rickyt ponting', 27483), ('Sachune Tendulkar', 34357)]\n"
     ]
    }
   ],
   "source": [
    "run = [(\"Sachune Tendulkar\", 34357), (\"Rickyt ponting\", 27483), (\"Jack Kallis\", 25534),(\"virat Kohli\", 24936 )]\n",
    "\n",
    "run.sort(key = lambda x: x[1])\n",
    "print(run)"
   ]
  },
  {
   "cell_type": "code",
   "execution_count": 20,
   "id": "0ce3308a-8613-4989-b202-90dd11de3bd8",
   "metadata": {},
   "outputs": [],
   "source": [
    "run.sort(key = lambda x : x[1])"
   ]
  },
  {
   "cell_type": "code",
   "execution_count": null,
   "id": "5bc4fc07-e74e-4b14-8163-08187f633e79",
   "metadata": {},
   "outputs": [],
   "source": []
  },
  {
   "cell_type": "code",
   "execution_count": 22,
   "id": "589e8fbb-9564-4d55-a870-648b915f3793",
   "metadata": {},
   "outputs": [],
   "source": [
    "## Q2. Write a Python Program to find the squares of all the numbers in the given list of integers using \n",
    "## lambda and map functions.\n",
    "## [1, 2, 3, 4, 5, 6, 7, 8, 9, 10]"
   ]
  },
  {
   "cell_type": "code",
   "execution_count": 11,
   "id": "738a1e32-eec1-4903-94de-0df897a9572b",
   "metadata": {},
   "outputs": [
    {
     "name": "stdout",
     "output_type": "stream",
     "text": [
      "0\n",
      "1\n",
      "4\n",
      "9\n",
      "16\n",
      "25\n",
      "36\n",
      "49\n",
      "64\n",
      "81\n",
      "100\n"
     ]
    }
   ],
   "source": [
    "##Square by Lambda Functio\n",
    "square_of_list = [lambda arg=x : arg**2 for x in range (11)]\n",
    "for item in square_of_list:\n",
    "    print(item())"
   ]
  },
  {
   "cell_type": "code",
   "execution_count": 14,
   "id": "72957339-3f91-4cbb-864d-7e3085756085",
   "metadata": {},
   "outputs": [
    {
     "data": {
      "text/plain": [
       "[1, 4, 9, 16, 25, 36, 49, 64, 81, 100]"
      ]
     },
     "execution_count": 14,
     "metadata": {},
     "output_type": "execute_result"
    }
   ],
   "source": [
    "## Square by Map Function:\n",
    "\n",
    "def sq(x):\n",
    "    return x**2\n",
    "l = [1,2,3,4,5,6,7,8,9,10]\n",
    "\n",
    "list(map(sq,l))\n"
   ]
  },
  {
   "cell_type": "code",
   "execution_count": null,
   "id": "0d51d0c4-5d9e-49f3-abdd-3db77912df1d",
   "metadata": {},
   "outputs": [],
   "source": []
  },
  {
   "cell_type": "code",
   "execution_count": null,
   "id": "7f373fc3-62c0-4cfc-9fab-bd42d35709d2",
   "metadata": {},
   "outputs": [],
   "source": [
    "## Q3. Write a python program to convert the given list of integers into a tuple of strings. Use map and lambda functions\n",
    "\n",
    "## Given String: [1, 2, 3, 4, 5, 6, 7, 8, 9, 10]\n",
    "\n",
    "## Expected output: ('1', '2', '3', '4', '5', '6', '7', '8', '9', '10')"
   ]
  },
  {
   "cell_type": "code",
   "execution_count": 30,
   "id": "62ef8d69-afeb-4985-8dde-af5ec4ba12c0",
   "metadata": {},
   "outputs": [
    {
     "name": "stdout",
     "output_type": "stream",
     "text": [
      "('1', '2', '3', '4', '5', '6', '7', '8', '9', '10')\n"
     ]
    }
   ],
   "source": [
    "given_list = [1,2,3,4,5,6,7,8,9,10]\n",
    "\n",
    "tuple_of_string = tuple(map(str,given_list))\n",
    "print(tuple_of_string)"
   ]
  },
  {
   "cell_type": "code",
   "execution_count": null,
   "id": "9021020f-aa92-4015-a194-0e767769cbb3",
   "metadata": {},
   "outputs": [],
   "source": []
  },
  {
   "cell_type": "code",
   "execution_count": null,
   "id": "b1f627e5-736c-4472-a793-78b829f7f0b4",
   "metadata": {},
   "outputs": [],
   "source": []
  },
  {
   "cell_type": "code",
   "execution_count": null,
   "id": "ee697330-daca-4e64-b12f-9e00f27b48d4",
   "metadata": {},
   "outputs": [],
   "source": [
    "## Q4.  Write a python program using reduce function to compute the product of a list containing numbers from 1 to 25."
   ]
  },
  {
   "cell_type": "code",
   "execution_count": null,
   "id": "21ac090b-c91c-4454-9609-f038ddb5ec30",
   "metadata": {},
   "outputs": [],
   "source": [
    "## Q5. Write a python program to filter the numbers in a given list that are divisible by 2 and 3 using the \n",
    "## filter function.\n",
    "\n",
    "## [2, 3, 6, 9, 27, 60, 90, 120, 55, 46]"
   ]
  },
  {
   "cell_type": "code",
   "execution_count": 48,
   "id": "70f97c76-3c2d-4293-94d2-8ee9673687c9",
   "metadata": {},
   "outputs": [
    {
     "name": "stdout",
     "output_type": "stream",
     "text": [
      "[2, 3, 6, 9, 27, 60, 90, 120, 46]\n"
     ]
    }
   ],
   "source": [
    "l = [2,3,6,9,27,60,90,120,55,46]\n",
    "l1 = list(filter(lambda x : x%2 ==0 or x%3==0, l))\n",
    "print(l1)"
   ]
  },
  {
   "cell_type": "code",
   "execution_count": null,
   "id": "6b3d11b4-748f-47cf-b02e-ca91754d3a21",
   "metadata": {},
   "outputs": [],
   "source": []
  },
  {
   "cell_type": "code",
   "execution_count": null,
   "id": "4dff6826-b6b0-40df-bc7e-1bc1e7dfcfef",
   "metadata": {},
   "outputs": [],
   "source": []
  },
  {
   "cell_type": "code",
   "execution_count": 51,
   "id": "165ef292-5789-4639-b4a9-80e2f4f979dc",
   "metadata": {},
   "outputs": [],
   "source": [
    "## Q6. Write a python program to find palindromes in the given list of strings using lambda and filter function.\n",
    "## ['python', 'php', 'aba', 'radar', 'level']"
   ]
  },
  {
   "cell_type": "code",
   "execution_count": 54,
   "id": "1e82bf94-b19d-4186-b4f7-cb44a86029b5",
   "metadata": {},
   "outputs": [
    {
     "name": "stdout",
     "output_type": "stream",
     "text": [
      "['php', 'aba', 'radar', 'level']\n"
     ]
    }
   ],
   "source": [
    "s = ['python', 'php', 'aba', 'radar', 'level']\n",
    "s1 = list(filter(lambda x: (x==\"\".join(reversed(x))), s))\n",
    "print(s1)"
   ]
  },
  {
   "cell_type": "code",
   "execution_count": null,
   "id": "75fd259b-5414-4363-95de-5b829fe34f2c",
   "metadata": {},
   "outputs": [],
   "source": []
  }
 ],
 "metadata": {
  "kernelspec": {
   "display_name": "Python 3 (ipykernel)",
   "language": "python",
   "name": "python3"
  },
  "language_info": {
   "codemirror_mode": {
    "name": "ipython",
    "version": 3
   },
   "file_extension": ".py",
   "mimetype": "text/x-python",
   "name": "python",
   "nbconvert_exporter": "python",
   "pygments_lexer": "ipython3",
   "version": "3.10.8"
  }
 },
 "nbformat": 4,
 "nbformat_minor": 5
}
